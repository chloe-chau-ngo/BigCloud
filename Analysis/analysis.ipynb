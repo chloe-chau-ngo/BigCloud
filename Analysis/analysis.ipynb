{
 "cells": [
  {
   "cell_type": "code",
   "execution_count": 1,
   "metadata": {},
   "outputs": [],
   "source": [
    "import pandas as pd\n"
   ]
  },
  {
   "cell_type": "code",
   "execution_count": 2,
   "metadata": {},
   "outputs": [],
   "source": [
    "#cleaning data and merging \n",
    "covid = pd.read_csv(\"COVID19-death-US.csv\", parse_dates = ['date'])\n",
    "overall = pd.read_csv('overall.csv', parse_dates = ['post_date'])\n",
    "result = covid.merge(overall, how='left', left_on='date', right_on='post_date')\n",
    "result2 = covid.merge(overall, left_on='date', right_on='post_date')\n",
    "\n",
    "#reading in industry, geography and job_family\n",
    "industry = pd.read_csv('industry.csv', parse_dates = ['post_date'])\n",
    "jobfam = pd.read_csv('job_family.csv', parse_dates = ['post_date'])\n",
    "geo = pd.read_csv('geography.csv', parse_dates = ['post_date'])"
   ]
  },
  {
   "cell_type": "code",
   "execution_count": 3,
   "metadata": {},
   "outputs": [],
   "source": [
    "# web scrape state political affiliations\n",
    "import urllib.request\n",
    "from bs4 import BeautifulSoup"
   ]
  },
  {
   "cell_type": "code",
   "execution_count": 4,
   "metadata": {},
   "outputs": [],
   "source": [
    "url = \"https://en.wikipedia.org/wiki/Political_party_strength_in_U.S._states\"\n",
    "\n",
    "page = urllib.request.urlopen(url)\n",
    "soup = BeautifulSoup(page, \"lxml\")\n",
    "all_tables = soup.find_all(\"table\")\n",
    "right_table = soup.find_all('table', class_ = \"sortable wikitable\")"
   ]
  },
  {
   "cell_type": "code",
   "execution_count": 5,
   "metadata": {},
   "outputs": [],
   "source": [
    "A = []\n",
    "B = []\n",
    "C = []\n",
    "D = []\n",
    "E = []\n",
    "F = []\n",
    "G = []\n",
    "H = []\n",
    "I = []\n",
    "\n",
    "for row in right_table[0].findAll('tr'):\n",
    "    cells = row.findAll('td')\n",
    "    if len(cells) == 9:\n",
    "        A.append(cells[0].find(text = True))\n",
    "        B.append(cells[1].find(text = True))\n",
    "        C.append(cells[2].find(text = True))\n",
    "        D.append(cells[3].find(text = True))\n",
    "        E.append(cells[4].find(text = True))\n",
    "        F.append(cells[5].find(text = True))\n",
    "        G.append(cells[6].find(text = True))\n",
    "        H.append(cells[7].find(text = True))\n",
    "        I.append(cells[8].find(text = True))\n",
    "    elif len(cells) == 8:\n",
    "        A.append(cells[0].find(text = True))\n",
    "        B.append(cells[1].find(text = True))\n",
    "        C.append(cells[2].find(text = True))\n",
    "        D.append(cells[3].find(text = True))\n",
    "        E.append(cells[3].find(text = True))\n",
    "        F.append(cells[4].find(text = True))\n",
    "        G.append(cells[5].find(text = True))\n",
    "        H.append(cells[6].find(text = True))\n",
    "        I.append(cells[7].find(text = True))"
   ]
  },
  {
   "cell_type": "code",
   "execution_count": 6,
   "metadata": {},
   "outputs": [],
   "source": [
    "df = pd.DataFrame(A, columns = ['State'])\n",
    "df['2020 presidential election'] = list(map(str.strip, B))\n",
    "df['Governor'] = list(map(str.strip, C))\n",
    "df['State Senate'] = list(map(str.strip, D))\n",
    "df['State House'] = list(map(str.strip, E))\n",
    "df['Senior U.S. Senator'] = list(map(str.strip, F))\n",
    "df['Junior U.S. Senator'] = list(map(str.strip, G))\n",
    "df['U.S. House of Reprsentatives'] = list(map(str.strip, H))\n",
    "df['party registration'] = list(map(str.strip, I))"
   ]
  },
  {
   "cell_type": "code",
   "execution_count": 7,
   "metadata": {},
   "outputs": [],
   "source": [
    "states = [\"AL\", \"AK\", \"AZ\", \"AR\", \"CA\", \"CO\", \"CT\", \"DE\", \"FL\", \"GA\", \n",
    "          \"HI\", \"ID\", \"IL\", \"IN\", \"IA\", \"KS\", \"KY\", \"LA\", \"ME\", \"MD\", \n",
    "          \"MA\", \"MI\", \"MN\", \"MS\", \"MO\", \"MT\", \"NE\", \"NV\", \"NH\", \"NJ\", \n",
    "          \"NM\", \"NY\", \"NC\", \"ND\", \"OH\", \"OK\", \"OR\", \"PA\", \"RI\", \"SC\", \n",
    "          \"SD\", \"TN\", \"TX\", \"UT\", \"VT\", \"VA\", \"WA\", \"WV\", \"WI\", \"WY\"]\n",
    "\n",
    "df['State Abbreviation'] = states"
   ]
  },
  {
   "cell_type": "code",
   "execution_count": 8,
   "metadata": {},
   "outputs": [
    {
     "data": {
      "text/html": [
       "<div>\n",
       "<style scoped>\n",
       "    .dataframe tbody tr th:only-of-type {\n",
       "        vertical-align: middle;\n",
       "    }\n",
       "\n",
       "    .dataframe tbody tr th {\n",
       "        vertical-align: top;\n",
       "    }\n",
       "\n",
       "    .dataframe thead th {\n",
       "        text-align: right;\n",
       "    }\n",
       "</style>\n",
       "<table border=\"1\" class=\"dataframe\">\n",
       "  <thead>\n",
       "    <tr style=\"text-align: right;\">\n",
       "      <th></th>\n",
       "      <th>State</th>\n",
       "      <th>2020 presidential election</th>\n",
       "      <th>Governor</th>\n",
       "      <th>State Senate</th>\n",
       "      <th>State House</th>\n",
       "      <th>Senior U.S. Senator</th>\n",
       "      <th>Junior U.S. Senator</th>\n",
       "      <th>U.S. House of Reprsentatives</th>\n",
       "      <th>party registration</th>\n",
       "      <th>State Abbreviation</th>\n",
       "    </tr>\n",
       "  </thead>\n",
       "  <tbody>\n",
       "    <tr>\n",
       "      <th>0</th>\n",
       "      <td>Alabama</td>\n",
       "      <td>Republican</td>\n",
       "      <td>Republican</td>\n",
       "      <td>Republican 27–8</td>\n",
       "      <td>Republican 77–28</td>\n",
       "      <td>Republican</td>\n",
       "      <td>Republican</td>\n",
       "      <td>Republican 6–1</td>\n",
       "      <td>Republican</td>\n",
       "      <td>AL</td>\n",
       "    </tr>\n",
       "    <tr>\n",
       "      <th>1</th>\n",
       "      <td>Alaska</td>\n",
       "      <td>Republican</td>\n",
       "      <td>Republican</td>\n",
       "      <td>Republican 13–7</td>\n",
       "      <td>Coalition 23–17</td>\n",
       "      <td>Republican</td>\n",
       "      <td>Republican</td>\n",
       "      <td>Republican</td>\n",
       "      <td>Republican</td>\n",
       "      <td>AK</td>\n",
       "    </tr>\n",
       "    <tr>\n",
       "      <th>2</th>\n",
       "      <td>Arizona</td>\n",
       "      <td>Democratic</td>\n",
       "      <td>Republican</td>\n",
       "      <td>Republican 16–14</td>\n",
       "      <td>Republican 31–29</td>\n",
       "      <td>Democratic</td>\n",
       "      <td>Democratic</td>\n",
       "      <td>Democratic 5–4</td>\n",
       "      <td>Republican</td>\n",
       "      <td>AZ</td>\n",
       "    </tr>\n",
       "    <tr>\n",
       "      <th>3</th>\n",
       "      <td>Arkansas</td>\n",
       "      <td>Republican</td>\n",
       "      <td>Republican</td>\n",
       "      <td>Republican 28–7</td>\n",
       "      <td>Republican 77–23</td>\n",
       "      <td>Republican</td>\n",
       "      <td>Republican</td>\n",
       "      <td>Republican 4</td>\n",
       "      <td>Republican</td>\n",
       "      <td>AR</td>\n",
       "    </tr>\n",
       "    <tr>\n",
       "      <th>4</th>\n",
       "      <td>California</td>\n",
       "      <td>Democratic</td>\n",
       "      <td>Democratic</td>\n",
       "      <td>Democratic 31–9</td>\n",
       "      <td>Democratic 59–19–1</td>\n",
       "      <td>Democratic</td>\n",
       "      <td>Democratic</td>\n",
       "      <td>Democratic 42–11</td>\n",
       "      <td>Democratic</td>\n",
       "      <td>CA</td>\n",
       "    </tr>\n",
       "  </tbody>\n",
       "</table>\n",
       "</div>"
      ],
      "text/plain": [
       "        State 2020 presidential election    Governor      State Senate  \\\n",
       "0     Alabama                 Republican  Republican   Republican 27–8   \n",
       "1      Alaska                 Republican  Republican   Republican 13–7   \n",
       "2     Arizona                 Democratic  Republican  Republican 16–14   \n",
       "3    Arkansas                 Republican  Republican   Republican 28–7   \n",
       "4  California                 Democratic  Democratic   Democratic 31–9   \n",
       "\n",
       "          State House Senior U.S. Senator Junior U.S. Senator  \\\n",
       "0    Republican 77–28          Republican          Republican   \n",
       "1     Coalition 23–17          Republican          Republican   \n",
       "2    Republican 31–29          Democratic          Democratic   \n",
       "3    Republican 77–23          Republican          Republican   \n",
       "4  Democratic 59–19–1          Democratic          Democratic   \n",
       "\n",
       "  U.S. House of Reprsentatives party registration State Abbreviation  \n",
       "0               Republican 6–1         Republican                 AL  \n",
       "1                   Republican         Republican                 AK  \n",
       "2               Democratic 5–4         Republican                 AZ  \n",
       "3                 Republican 4         Republican                 AR  \n",
       "4             Democratic 42–11         Democratic                 CA  "
      ]
     },
     "execution_count": 8,
     "metadata": {},
     "output_type": "execute_result"
    }
   ],
   "source": [
    "df.head()"
   ]
  },
  {
   "cell_type": "code",
   "execution_count": 11,
   "metadata": {},
   "outputs": [
    {
     "data": {
      "text/html": [
       "<div>\n",
       "<style scoped>\n",
       "    .dataframe tbody tr th:only-of-type {\n",
       "        vertical-align: middle;\n",
       "    }\n",
       "\n",
       "    .dataframe tbody tr th {\n",
       "        vertical-align: top;\n",
       "    }\n",
       "\n",
       "    .dataframe thead th {\n",
       "        text-align: right;\n",
       "    }\n",
       "</style>\n",
       "<table border=\"1\" class=\"dataframe\">\n",
       "  <thead>\n",
       "    <tr style=\"text-align: right;\">\n",
       "      <th></th>\n",
       "      <th>State Abbreviation</th>\n",
       "      <th>Governor</th>\n",
       "    </tr>\n",
       "  </thead>\n",
       "  <tbody>\n",
       "    <tr>\n",
       "      <th>0</th>\n",
       "      <td>AL</td>\n",
       "      <td>Republican</td>\n",
       "    </tr>\n",
       "    <tr>\n",
       "      <th>1</th>\n",
       "      <td>AK</td>\n",
       "      <td>Republican</td>\n",
       "    </tr>\n",
       "    <tr>\n",
       "      <th>2</th>\n",
       "      <td>AZ</td>\n",
       "      <td>Republican</td>\n",
       "    </tr>\n",
       "    <tr>\n",
       "      <th>3</th>\n",
       "      <td>AR</td>\n",
       "      <td>Republican</td>\n",
       "    </tr>\n",
       "    <tr>\n",
       "      <th>4</th>\n",
       "      <td>CA</td>\n",
       "      <td>Democratic</td>\n",
       "    </tr>\n",
       "  </tbody>\n",
       "</table>\n",
       "</div>"
      ],
      "text/plain": [
       "  State Abbreviation    Governor\n",
       "0                 AL  Republican\n",
       "1                 AK  Republican\n",
       "2                 AZ  Republican\n",
       "3                 AR  Republican\n",
       "4                 CA  Democratic"
      ]
     },
     "execution_count": 11,
     "metadata": {},
     "output_type": "execute_result"
    }
   ],
   "source": [
    "state_party = df[['State Abbreviation', 'Governor']]\n",
    "state_party.head()"
   ]
  },
  {
   "cell_type": "code",
   "execution_count": 13,
   "metadata": {},
   "outputs": [
    {
     "data": {
      "text/html": [
       "<div>\n",
       "<style scoped>\n",
       "    .dataframe tbody tr th:only-of-type {\n",
       "        vertical-align: middle;\n",
       "    }\n",
       "\n",
       "    .dataframe tbody tr th {\n",
       "        vertical-align: top;\n",
       "    }\n",
       "\n",
       "    .dataframe thead th {\n",
       "        text-align: right;\n",
       "    }\n",
       "</style>\n",
       "<table border=\"1\" class=\"dataframe\">\n",
       "  <thead>\n",
       "    <tr style=\"text-align: right;\">\n",
       "      <th></th>\n",
       "      <th>post_date</th>\n",
       "      <th>state</th>\n",
       "      <th>count_id_indexed</th>\n",
       "    </tr>\n",
       "  </thead>\n",
       "  <tbody>\n",
       "    <tr>\n",
       "      <th>0</th>\n",
       "      <td>2020-03-01</td>\n",
       "      <td>NaN</td>\n",
       "      <td>1.0</td>\n",
       "    </tr>\n",
       "    <tr>\n",
       "      <th>1</th>\n",
       "      <td>2020-03-01</td>\n",
       "      <td>AK</td>\n",
       "      <td>1.0</td>\n",
       "    </tr>\n",
       "    <tr>\n",
       "      <th>2</th>\n",
       "      <td>2020-03-01</td>\n",
       "      <td>AL</td>\n",
       "      <td>1.0</td>\n",
       "    </tr>\n",
       "    <tr>\n",
       "      <th>3</th>\n",
       "      <td>2020-03-01</td>\n",
       "      <td>AR</td>\n",
       "      <td>1.0</td>\n",
       "    </tr>\n",
       "    <tr>\n",
       "      <th>4</th>\n",
       "      <td>2020-03-01</td>\n",
       "      <td>AZ</td>\n",
       "      <td>1.0</td>\n",
       "    </tr>\n",
       "  </tbody>\n",
       "</table>\n",
       "</div>"
      ],
      "text/plain": [
       "   post_date state  count_id_indexed\n",
       "0 2020-03-01   NaN               1.0\n",
       "1 2020-03-01    AK               1.0\n",
       "2 2020-03-01    AL               1.0\n",
       "3 2020-03-01    AR               1.0\n",
       "4 2020-03-01    AZ               1.0"
      ]
     },
     "execution_count": 13,
     "metadata": {},
     "output_type": "execute_result"
    }
   ],
   "source": [
    "geo.head()"
   ]
  },
  {
   "cell_type": "code",
   "execution_count": 15,
   "metadata": {},
   "outputs": [],
   "source": [
    "geo_party = state_party.merge(geo, right_on = 'state', left_on = 'State Abbreviation')"
   ]
  },
  {
   "cell_type": "code",
   "execution_count": 17,
   "metadata": {},
   "outputs": [],
   "source": [
    "clean_geo = geo_party.drop(columns = ['State Abbreviation'])"
   ]
  },
  {
   "cell_type": "code",
   "execution_count": 18,
   "metadata": {},
   "outputs": [
    {
     "data": {
      "text/html": [
       "<div>\n",
       "<style scoped>\n",
       "    .dataframe tbody tr th:only-of-type {\n",
       "        vertical-align: middle;\n",
       "    }\n",
       "\n",
       "    .dataframe tbody tr th {\n",
       "        vertical-align: top;\n",
       "    }\n",
       "\n",
       "    .dataframe thead th {\n",
       "        text-align: right;\n",
       "    }\n",
       "</style>\n",
       "<table border=\"1\" class=\"dataframe\">\n",
       "  <thead>\n",
       "    <tr style=\"text-align: right;\">\n",
       "      <th></th>\n",
       "      <th>Governor</th>\n",
       "      <th>post_date</th>\n",
       "      <th>state</th>\n",
       "      <th>count_id_indexed</th>\n",
       "    </tr>\n",
       "  </thead>\n",
       "  <tbody>\n",
       "    <tr>\n",
       "      <th>0</th>\n",
       "      <td>Republican</td>\n",
       "      <td>2020-03-01</td>\n",
       "      <td>AL</td>\n",
       "      <td>1.0000</td>\n",
       "    </tr>\n",
       "    <tr>\n",
       "      <th>1</th>\n",
       "      <td>Republican</td>\n",
       "      <td>2020-03-02</td>\n",
       "      <td>AL</td>\n",
       "      <td>1.0065</td>\n",
       "    </tr>\n",
       "    <tr>\n",
       "      <th>2</th>\n",
       "      <td>Republican</td>\n",
       "      <td>2020-03-03</td>\n",
       "      <td>AL</td>\n",
       "      <td>1.0451</td>\n",
       "    </tr>\n",
       "    <tr>\n",
       "      <th>3</th>\n",
       "      <td>Republican</td>\n",
       "      <td>2020-03-04</td>\n",
       "      <td>AL</td>\n",
       "      <td>1.0885</td>\n",
       "    </tr>\n",
       "    <tr>\n",
       "      <th>4</th>\n",
       "      <td>Republican</td>\n",
       "      <td>2020-03-05</td>\n",
       "      <td>AL</td>\n",
       "      <td>1.0865</td>\n",
       "    </tr>\n",
       "  </tbody>\n",
       "</table>\n",
       "</div>"
      ],
      "text/plain": [
       "     Governor  post_date state  count_id_indexed\n",
       "0  Republican 2020-03-01    AL            1.0000\n",
       "1  Republican 2020-03-02    AL            1.0065\n",
       "2  Republican 2020-03-03    AL            1.0451\n",
       "3  Republican 2020-03-04    AL            1.0885\n",
       "4  Republican 2020-03-05    AL            1.0865"
      ]
     },
     "execution_count": 18,
     "metadata": {},
     "output_type": "execute_result"
    }
   ],
   "source": [
    "clean_geo.head()"
   ]
  },
  {
   "cell_type": "code",
   "execution_count": 25,
   "metadata": {},
   "outputs": [
    {
     "data": {
      "text/html": [
       "<div>\n",
       "<style scoped>\n",
       "    .dataframe tbody tr th:only-of-type {\n",
       "        vertical-align: middle;\n",
       "    }\n",
       "\n",
       "    .dataframe tbody tr th {\n",
       "        vertical-align: top;\n",
       "    }\n",
       "\n",
       "    .dataframe thead th {\n",
       "        text-align: right;\n",
       "    }\n",
       "</style>\n",
       "<table border=\"1\" class=\"dataframe\">\n",
       "  <thead>\n",
       "    <tr style=\"text-align: right;\">\n",
       "      <th></th>\n",
       "      <th></th>\n",
       "      <th>count_id_indexed</th>\n",
       "    </tr>\n",
       "    <tr>\n",
       "      <th>post_date</th>\n",
       "      <th>Governor</th>\n",
       "      <th></th>\n",
       "    </tr>\n",
       "  </thead>\n",
       "  <tbody>\n",
       "    <tr>\n",
       "      <th rowspan=\"2\" valign=\"top\">2020-03-01</th>\n",
       "      <th>Democratic</th>\n",
       "      <td>1.000000</td>\n",
       "    </tr>\n",
       "    <tr>\n",
       "      <th>Republican</th>\n",
       "      <td>1.000000</td>\n",
       "    </tr>\n",
       "    <tr>\n",
       "      <th rowspan=\"2\" valign=\"top\">2020-03-02</th>\n",
       "      <th>Democratic</th>\n",
       "      <td>1.017613</td>\n",
       "    </tr>\n",
       "    <tr>\n",
       "      <th>Republican</th>\n",
       "      <td>1.012985</td>\n",
       "    </tr>\n",
       "    <tr>\n",
       "      <th>2020-03-03</th>\n",
       "      <th>Democratic</th>\n",
       "      <td>1.043513</td>\n",
       "    </tr>\n",
       "  </tbody>\n",
       "</table>\n",
       "</div>"
      ],
      "text/plain": [
       "                       count_id_indexed\n",
       "post_date  Governor                    \n",
       "2020-03-01 Democratic          1.000000\n",
       "           Republican          1.000000\n",
       "2020-03-02 Democratic          1.017613\n",
       "           Republican          1.012985\n",
       "2020-03-03 Democratic          1.043513"
      ]
     },
     "execution_count": 25,
     "metadata": {},
     "output_type": "execute_result"
    }
   ],
   "source": [
    "groups = clean_geo.drop(columns=['state']).groupby(['post_date', 'Governor']).mean()\n",
    "groups.head()"
   ]
  },
  {
   "cell_type": "code",
   "execution_count": 28,
   "metadata": {},
   "outputs": [
    {
     "data": {
      "text/plain": [
       "<AxesSubplot:xlabel='post_date', ylabel='count_id_indexed'>"
      ]
     },
     "execution_count": 28,
     "metadata": {},
     "output_type": "execute_result"
    },
    {
     "data": {
      "image/png": "[encoded data removed]",
      "text/plain": [
       "<Figure size 432x288 with 1 Axes>"
      ]
     },
     "metadata": {
      "needs_background": "light"
     },
     "output_type": "display_data"
    }
   ],
   "source": [
    "import seaborn as sns\n",
    "sns.lineplot(x='post_date', y='count_id_indexed', hue='Governor', data=groups)"
   ]
  },
  {
   "cell_type": "code",
   "execution_count": 19,
   "metadata": {},
   "outputs": [],
   "source": [
    "repub_states = clean_geo[clean_geo['Governor'] == 'Republican']\n",
    "dem_states = clean_geo[clean_geo['Governor'] == 'Democratic']"
   ]
  },
  {
   "cell_type": "code",
   "execution_count": 20,
   "metadata": {},
   "outputs": [
    {
     "data": {
      "text/html": [
       "<div>\n",
       "<style scoped>\n",
       "    .dataframe tbody tr th:only-of-type {\n",
       "        vertical-align: middle;\n",
       "    }\n",
       "\n",
       "    .dataframe tbody tr th {\n",
       "        vertical-align: top;\n",
       "    }\n",
       "\n",
       "    .dataframe thead th {\n",
       "        text-align: right;\n",
       "    }\n",
       "</style>\n",
       "<table border=\"1\" class=\"dataframe\">\n",
       "  <thead>\n",
       "    <tr style=\"text-align: right;\">\n",
       "      <th></th>\n",
       "      <th>Governor</th>\n",
       "      <th>post_date</th>\n",
       "      <th>state</th>\n",
       "      <th>count_id_indexed</th>\n",
       "    </tr>\n",
       "  </thead>\n",
       "  <tbody>\n",
       "    <tr>\n",
       "      <th>0</th>\n",
       "      <td>Republican</td>\n",
       "      <td>2020-03-01</td>\n",
       "      <td>AL</td>\n",
       "      <td>1.0000</td>\n",
       "    </tr>\n",
       "    <tr>\n",
       "      <th>1</th>\n",
       "      <td>Republican</td>\n",
       "      <td>2020-03-02</td>\n",
       "      <td>AL</td>\n",
       "      <td>1.0065</td>\n",
       "    </tr>\n",
       "    <tr>\n",
       "      <th>2</th>\n",
       "      <td>Republican</td>\n",
       "      <td>2020-03-03</td>\n",
       "      <td>AL</td>\n",
       "      <td>1.0451</td>\n",
       "    </tr>\n",
       "    <tr>\n",
       "      <th>3</th>\n",
       "      <td>Republican</td>\n",
       "      <td>2020-03-04</td>\n",
       "      <td>AL</td>\n",
       "      <td>1.0885</td>\n",
       "    </tr>\n",
       "    <tr>\n",
       "      <th>4</th>\n",
       "      <td>Republican</td>\n",
       "      <td>2020-03-05</td>\n",
       "      <td>AL</td>\n",
       "      <td>1.0865</td>\n",
       "    </tr>\n",
       "    <tr>\n",
       "      <th>...</th>\n",
       "      <td>...</td>\n",
       "      <td>...</td>\n",
       "      <td>...</td>\n",
       "      <td>...</td>\n",
       "    </tr>\n",
       "    <tr>\n",
       "      <th>21494</th>\n",
       "      <td>Republican</td>\n",
       "      <td>2021-04-30</td>\n",
       "      <td>WY</td>\n",
       "      <td>1.5846</td>\n",
       "    </tr>\n",
       "    <tr>\n",
       "      <th>21495</th>\n",
       "      <td>Republican</td>\n",
       "      <td>2021-05-01</td>\n",
       "      <td>WY</td>\n",
       "      <td>1.6417</td>\n",
       "    </tr>\n",
       "    <tr>\n",
       "      <th>21496</th>\n",
       "      <td>Republican</td>\n",
       "      <td>2021-05-02</td>\n",
       "      <td>WY</td>\n",
       "      <td>1.7058</td>\n",
       "    </tr>\n",
       "    <tr>\n",
       "      <th>21497</th>\n",
       "      <td>Republican</td>\n",
       "      <td>2021-05-03</td>\n",
       "      <td>WY</td>\n",
       "      <td>1.7140</td>\n",
       "    </tr>\n",
       "    <tr>\n",
       "      <th>21498</th>\n",
       "      <td>Republican</td>\n",
       "      <td>2021-05-04</td>\n",
       "      <td>WY</td>\n",
       "      <td>1.7051</td>\n",
       "    </tr>\n",
       "  </tbody>\n",
       "</table>\n",
       "<p>11610 rows × 4 columns</p>\n",
       "</div>"
      ],
      "text/plain": [
       "         Governor  post_date state  count_id_indexed\n",
       "0      Republican 2020-03-01    AL            1.0000\n",
       "1      Republican 2020-03-02    AL            1.0065\n",
       "2      Republican 2020-03-03    AL            1.0451\n",
       "3      Republican 2020-03-04    AL            1.0885\n",
       "4      Republican 2020-03-05    AL            1.0865\n",
       "...           ...        ...   ...               ...\n",
       "21494  Republican 2021-04-30    WY            1.5846\n",
       "21495  Republican 2021-05-01    WY            1.6417\n",
       "21496  Republican 2021-05-02    WY            1.7058\n",
       "21497  Republican 2021-05-03    WY            1.7140\n",
       "21498  Republican 2021-05-04    WY            1.7051\n",
       "\n",
       "[11610 rows x 4 columns]"
      ]
     },
     "execution_count": 20,
     "metadata": {},
     "output_type": "execute_result"
    }
   ],
   "source": [
    "repub_states"
   ]
  },
  {
   "cell_type": "code",
   "execution_count": 23,
   "metadata": {},
   "outputs": [
    {
     "data": {
      "text/html": [
       "<div>\n",
       "<style scoped>\n",
       "    .dataframe tbody tr th:only-of-type {\n",
       "        vertical-align: middle;\n",
       "    }\n",
       "\n",
       "    .dataframe tbody tr th {\n",
       "        vertical-align: top;\n",
       "    }\n",
       "\n",
       "    .dataframe thead th {\n",
       "        text-align: right;\n",
       "    }\n",
       "</style>\n",
       "<table border=\"1\" class=\"dataframe\">\n",
       "  <thead>\n",
       "    <tr style=\"text-align: right;\">\n",
       "      <th></th>\n",
       "      <th>count_id_indexed</th>\n",
       "    </tr>\n",
       "    <tr>\n",
       "      <th>post_date</th>\n",
       "      <th></th>\n",
       "    </tr>\n",
       "  </thead>\n",
       "  <tbody>\n",
       "    <tr>\n",
       "      <th>2020-03-01</th>\n",
       "      <td>1.000000</td>\n",
       "    </tr>\n",
       "    <tr>\n",
       "      <th>2020-03-02</th>\n",
       "      <td>1.012985</td>\n",
       "    </tr>\n",
       "    <tr>\n",
       "      <th>2020-03-03</th>\n",
       "      <td>1.037030</td>\n",
       "    </tr>\n",
       "    <tr>\n",
       "      <th>2020-03-04</th>\n",
       "      <td>1.065393</td>\n",
       "    </tr>\n",
       "    <tr>\n",
       "      <th>2020-03-05</th>\n",
       "      <td>1.076396</td>\n",
       "    </tr>\n",
       "  </tbody>\n",
       "</table>\n",
       "</div>"
      ],
      "text/plain": [
       "            count_id_indexed\n",
       "post_date                   \n",
       "2020-03-01          1.000000\n",
       "2020-03-02          1.012985\n",
       "2020-03-03          1.037030\n",
       "2020-03-04          1.065393\n",
       "2020-03-05          1.076396"
      ]
     },
     "execution_count": 23,
     "metadata": {},
     "output_type": "execute_result"
    }
   ],
   "source": [
    "r_avg_day = repub_states[['post_date', 'count_id_indexed']].groupby(['post_date']).mean()\n",
    "r_avg_day.head()"
   ]
  },
  {
   "cell_type": "code",
   "execution_count": 21,
   "metadata": {},
   "outputs": [
    {
     "data": {
      "text/html": [
       "<div>\n",
       "<style scoped>\n",
       "    .dataframe tbody tr th:only-of-type {\n",
       "        vertical-align: middle;\n",
       "    }\n",
       "\n",
       "    .dataframe tbody tr th {\n",
       "        vertical-align: top;\n",
       "    }\n",
       "\n",
       "    .dataframe thead th {\n",
       "        text-align: right;\n",
       "    }\n",
       "</style>\n",
       "<table border=\"1\" class=\"dataframe\">\n",
       "  <thead>\n",
       "    <tr style=\"text-align: right;\">\n",
       "      <th></th>\n",
       "      <th>Governor</th>\n",
       "      <th>post_date</th>\n",
       "      <th>state</th>\n",
       "      <th>count_id_indexed</th>\n",
       "    </tr>\n",
       "  </thead>\n",
       "  <tbody>\n",
       "    <tr>\n",
       "      <th>1720</th>\n",
       "      <td>Democratic</td>\n",
       "      <td>2020-03-01</td>\n",
       "      <td>CA</td>\n",
       "      <td>1.0000</td>\n",
       "    </tr>\n",
       "    <tr>\n",
       "      <th>1721</th>\n",
       "      <td>Democratic</td>\n",
       "      <td>2020-03-02</td>\n",
       "      <td>CA</td>\n",
       "      <td>1.0062</td>\n",
       "    </tr>\n",
       "    <tr>\n",
       "      <th>1722</th>\n",
       "      <td>Democratic</td>\n",
       "      <td>2020-03-03</td>\n",
       "      <td>CA</td>\n",
       "      <td>1.0125</td>\n",
       "    </tr>\n",
       "    <tr>\n",
       "      <th>1723</th>\n",
       "      <td>Democratic</td>\n",
       "      <td>2020-03-04</td>\n",
       "      <td>CA</td>\n",
       "      <td>1.0305</td>\n",
       "    </tr>\n",
       "    <tr>\n",
       "      <th>1724</th>\n",
       "      <td>Democratic</td>\n",
       "      <td>2020-03-05</td>\n",
       "      <td>CA</td>\n",
       "      <td>1.0467</td>\n",
       "    </tr>\n",
       "    <tr>\n",
       "      <th>...</th>\n",
       "      <td>...</td>\n",
       "      <td>...</td>\n",
       "      <td>...</td>\n",
       "      <td>...</td>\n",
       "    </tr>\n",
       "    <tr>\n",
       "      <th>21064</th>\n",
       "      <td>Democratic</td>\n",
       "      <td>2021-04-30</td>\n",
       "      <td>WI</td>\n",
       "      <td>1.7202</td>\n",
       "    </tr>\n",
       "    <tr>\n",
       "      <th>21065</th>\n",
       "      <td>Democratic</td>\n",
       "      <td>2021-05-01</td>\n",
       "      <td>WI</td>\n",
       "      <td>1.7271</td>\n",
       "    </tr>\n",
       "    <tr>\n",
       "      <th>21066</th>\n",
       "      <td>Democratic</td>\n",
       "      <td>2021-05-02</td>\n",
       "      <td>WI</td>\n",
       "      <td>1.7669</td>\n",
       "    </tr>\n",
       "    <tr>\n",
       "      <th>21067</th>\n",
       "      <td>Democratic</td>\n",
       "      <td>2021-05-03</td>\n",
       "      <td>WI</td>\n",
       "      <td>1.7652</td>\n",
       "    </tr>\n",
       "    <tr>\n",
       "      <th>21068</th>\n",
       "      <td>Democratic</td>\n",
       "      <td>2021-05-04</td>\n",
       "      <td>WI</td>\n",
       "      <td>1.7205</td>\n",
       "    </tr>\n",
       "  </tbody>\n",
       "</table>\n",
       "<p>9889 rows × 4 columns</p>\n",
       "</div>"
      ],
      "text/plain": [
       "         Governor  post_date state  count_id_indexed\n",
       "1720   Democratic 2020-03-01    CA            1.0000\n",
       "1721   Democratic 2020-03-02    CA            1.0062\n",
       "1722   Democratic 2020-03-03    CA            1.0125\n",
       "1723   Democratic 2020-03-04    CA            1.0305\n",
       "1724   Democratic 2020-03-05    CA            1.0467\n",
       "...           ...        ...   ...               ...\n",
       "21064  Democratic 2021-04-30    WI            1.7202\n",
       "21065  Democratic 2021-05-01    WI            1.7271\n",
       "21066  Democratic 2021-05-02    WI            1.7669\n",
       "21067  Democratic 2021-05-03    WI            1.7652\n",
       "21068  Democratic 2021-05-04    WI            1.7205\n",
       "\n",
       "[9889 rows x 4 columns]"
      ]
     },
     "execution_count": 21,
     "metadata": {},
     "output_type": "execute_result"
    }
   ],
   "source": [
    "dem_states"
   ]
  },
  {
   "cell_type": "code",
   "execution_count": 24,
   "metadata": {},
   "outputs": [
    {
     "data": {
      "text/html": [
       "<div>\n",
       "<style scoped>\n",
       "    .dataframe tbody tr th:only-of-type {\n",
       "        vertical-align: middle;\n",
       "    }\n",
       "\n",
       "    .dataframe tbody tr th {\n",
       "        vertical-align: top;\n",
       "    }\n",
       "\n",
       "    .dataframe thead th {\n",
       "        text-align: right;\n",
       "    }\n",
       "</style>\n",
       "<table border=\"1\" class=\"dataframe\">\n",
       "  <thead>\n",
       "    <tr style=\"text-align: right;\">\n",
       "      <th></th>\n",
       "      <th>count_id_indexed</th>\n",
       "    </tr>\n",
       "    <tr>\n",
       "      <th>post_date</th>\n",
       "      <th></th>\n",
       "    </tr>\n",
       "  </thead>\n",
       "  <tbody>\n",
       "    <tr>\n",
       "      <th>2020-03-01</th>\n",
       "      <td>1.000000</td>\n",
       "    </tr>\n",
       "    <tr>\n",
       "      <th>2020-03-02</th>\n",
       "      <td>1.017613</td>\n",
       "    </tr>\n",
       "    <tr>\n",
       "      <th>2020-03-03</th>\n",
       "      <td>1.043513</td>\n",
       "    </tr>\n",
       "    <tr>\n",
       "      <th>2020-03-04</th>\n",
       "      <td>1.071213</td>\n",
       "    </tr>\n",
       "    <tr>\n",
       "      <th>2020-03-05</th>\n",
       "      <td>1.088587</td>\n",
       "    </tr>\n",
       "  </tbody>\n",
       "</table>\n",
       "</div>"
      ],
      "text/plain": [
       "            count_id_indexed\n",
       "post_date                   \n",
       "2020-03-01          1.000000\n",
       "2020-03-02          1.017613\n",
       "2020-03-03          1.043513\n",
       "2020-03-04          1.071213\n",
       "2020-03-05          1.088587"
      ]
     },
     "execution_count": 24,
     "metadata": {},
     "output_type": "execute_result"
    }
   ],
   "source": [
    "d_avg_day = dem_states[['post_date', 'count_id_indexed']].groupby(['post_date']).mean()\n",
    "d_avg_day.head()"
   ]
  },
  {
   "cell_type": "code",
   "execution_count": null,
   "metadata": {},
   "outputs": [],
   "source": []
  },
  {
   "cell_type": "code",
   "execution_count": null,
   "metadata": {},
   "outputs": [],
   "source": []
  },
  {
   "cell_type": "code",
   "execution_count": null,
   "metadata": {},
   "outputs": [],
   "source": []
  },
  {
   "cell_type": "code",
   "execution_count": null,
   "metadata": {},
   "outputs": [],
   "source": [
    "import seaborn as sns"
   ]
  },
  {
   "cell_type": "code",
   "execution_count": null,
   "metadata": {},
   "outputs": [],
   "source": [
    "sns.lineplot(data=result2[['date', 'new_cases', 'new_cases_smoothed']])"
   ]
  },
  {
   "cell_type": "code",
   "execution_count": null,
   "metadata": {},
   "outputs": [],
   "source": [
    "result2.plot.line(x='date', y='new_deaths')"
   ]
  },
  {
   "cell_type": "code",
   "execution_count": null,
   "metadata": {},
   "outputs": [],
   "source": [
    "#overall hiring trend\n",
    "result2.plot.line(x='date', y='count_id_indexed')"
   ]
  },
  {
   "cell_type": "code",
   "execution_count": null,
   "metadata": {},
   "outputs": [],
   "source": [
    "result2['date']"
   ]
  },
  {
   "cell_type": "code",
   "execution_count": null,
   "metadata": {},
   "outputs": [],
   "source": [
    "%matplotlib inline\n",
    "temp = result2.sort_values('date')\n",
    "temp['date_f'] = pd.factorize(temp['date'])[0] + 1\n",
    "mapping = dict(zip(temp['date_f'], temp['date'].dt.date))\n",
    "\n",
    "ax = sns.regplot('date_f', 'count_id_indexed', data=temp)\n",
    "labels = pd.Series(ax.get_xticks()).map(mapping).fillna('')\n",
    "ax.set_xticklabels(labels)"
   ]
  },
  {
   "cell_type": "markdown",
   "metadata": {},
   "source": [
    "We notice that there is an overall linearly positive trend, except for the drop in January. We see that this rapid drop happens during the week before December 25 and 1 week after New Years."
   ]
  },
  {
   "cell_type": "code",
   "execution_count": null,
   "metadata": {},
   "outputs": [],
   "source": [
    "jobfam.head()"
   ]
  },
  {
   "cell_type": "code",
   "execution_count": null,
   "metadata": {},
   "outputs": [],
   "source": [
    "%matplotlib tk\n",
    "sns.lineplot(x='post_date', y='count_id_indexed', hue='job_family', data = jobfam)"
   ]
  },
  {
   "cell_type": "code",
   "execution_count": null,
   "metadata": {},
   "outputs": [],
   "source": [
    "wanted_cat = ['Healthcare', 'Food & Beverage', 'Facilities/Constr']\n",
    "subset = jobfam[jobfam['job_family'].isin(wanted_cat)]\n",
    "sns.lineplot(x='post_date', y='count_id_indexed', hue='job_family', data = subset)"
   ]
  },
  {
   "cell_type": "code",
   "execution_count": null,
   "metadata": {},
   "outputs": [],
   "source": [
    "healthcare = jobfam[jobfam['job_family'] == 'Healthcare']\n",
    "job_cases = result2.merge(healthcare, how='inner', left_on='date', right_on='post_date')"
   ]
  },
  {
   "cell_type": "code",
   "execution_count": null,
   "metadata": {},
   "outputs": [],
   "source": [
    "job_cases"
   ]
  },
  {
   "cell_type": "code",
   "execution_count": null,
   "metadata": {},
   "outputs": [],
   "source": [
    "sns.lineplot('total_cases', 'count_id_indexed_y', data=job_cases)"
   ]
  },
  {
   "cell_type": "code",
   "execution_count": null,
   "metadata": {},
   "outputs": [],
   "source": [
    "sns.lineplot('total_cases', 'count_id_indexed_x', data=job_cases)"
   ]
  },
  {
   "cell_type": "code",
   "execution_count": null,
   "metadata": {},
   "outputs": [],
   "source": [
    "sns.lineplot('total_deaths', 'count_id_indexed_y', data=job_cases)"
   ]
  },
  {
   "cell_type": "code",
   "execution_count": null,
   "metadata": {},
   "outputs": [],
   "source": [
    "sns.lineplot('date', 'new_deaths_smoothed', data=job_cases)"
   ]
  },
  {
   "cell_type": "code",
   "execution_count": null,
   "metadata": {},
   "outputs": [],
   "source": [
    "sns.scatterplot(data=result2, x='count_id_indexed', y='new_cases')"
   ]
  },
  {
   "cell_type": "code",
   "execution_count": null,
   "metadata": {},
   "outputs": [],
   "source": []
  }
 ],
 "metadata": {
  "kernelspec": {
   "display_name": "Python 3",
   "language": "python",
   "name": "python3"
  },
  "language_info": {
   "codemirror_mode": {
    "name": "ipython",
    "version": 3
   },
   "file_extension": ".py",
   "mimetype": "text/x-python",
   "name": "python",
   "nbconvert_exporter": "python",
   "pygments_lexer": "ipython3",
   "version": "3.8.5"
  }
 },
 "nbformat": 4,
 "nbformat_minor": 4
}
